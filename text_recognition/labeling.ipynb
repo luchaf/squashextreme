{
 "cells": [
  {
   "cell_type": "code",
   "execution_count": 5,
   "id": "ab1307d8-0407-4f02-b609-4a5950e174b3",
   "metadata": {},
   "outputs": [
    {
     "data": {
      "text/plain": [
       "2"
      ]
     },
     "execution_count": 5,
     "metadata": {},
     "output_type": "execute_result"
    }
   ],
   "source": [
    "1+1"
   ]
  },
  {
   "cell_type": "code",
   "execution_count": 2,
   "id": "fab43d4b-b6a8-41c5-b2d2-271e88c90cca",
   "metadata": {},
   "outputs": [],
   "source": [
    "from doctr.models import ocr_predictor\n",
    "from doctr.io import DocumentFile\n",
    "from datetime import datetime\n",
    "import json\n",
    "from PIL import Image\n",
    "import os\n",
    "import random\n",
    "import shutil\n",
    "import math\n",
    "\n",
    "# on windows machine potentially necessary\n",
    "#import os\n",
    "# insert the GTK3 Runtime folder at the beginning. Can be bin or lib, depending on path you choose while installing.\n",
    "#GTK_FOLDER = r'C:\\Program Files\\GTK3-Runtime Win64\\bin'\n",
    "#os.environ['PATH'] = GTK_FOLDER + os.pathsep + os.environ.get('PATH', '')\n",
    "\n",
    "data_dir = 'data'\n",
    "annotations_dir = f'{data_dir}/annotations'\n",
    "# Ensure the 'annotations' directory exists\n",
    "if not os.path.exists(annotations_dir):\n",
    "    os.makedirs(annotations_dir)\n",
    "orig_images_path = f'{data_dir}/orig_images'\n",
    "image_paths = os.listdir(orig_images_path)\n",
    "image_paths = [os.path.join(orig_images_path,i) for i in image_paths]\n",
    "labels_file = os.path.join(annotations_dir, 'labels.json')"
   ]
  },
  {
   "cell_type": "code",
   "execution_count": 10,
   "id": "243198a3-53bd-4814-8321-09f2df08239b",
   "metadata": {},
   "outputs": [
    {
     "name": "stderr",
     "output_type": "stream",
     "text": [
      "WARNING:root:Invalid model URL, using default initialization.\n"
     ]
    }
   ],
   "source": [
    "from doctr.models import ocr_predictor\n",
    "from doctr.io import DocumentFile\n",
    "from datetime import datetime\n",
    "import json\n",
    "from PIL import Image\n",
    "import os\n",
    "import random\n",
    "import shutil\n",
    "import math\n",
    "\n",
    "# on windows machine potentially necessary\n",
    "#import os\n",
    "# insert the GTK3 Runtime folder at the beginning. Can be bin or lib, depending on path you choose while installing.\n",
    "#GTK_FOLDER = r'C:\\Program Files\\GTK3-Runtime Win64\\bin'\n",
    "#os.environ['PATH'] = GTK_FOLDER + os.pathsep + os.environ.get('PATH', '')\n",
    "\n",
    "data_dir = 'data'\n",
    "annotations_dir = f'{data_dir}/annotations'\n",
    "# Ensure the 'annotations' directory exists\n",
    "if not os.path.exists(annotations_dir):\n",
    "    os.makedirs(annotations_dir)\n",
    "orig_images_path = f'{data_dir}/orig_images'\n",
    "image_paths = os.listdir(orig_images_path)\n",
    "image_paths = [os.path.join(orig_images_path,i) for i in image_paths]\n",
    "labels_file = os.path.join(annotations_dir, 'labels.json')\n",
    "\n",
    "# Initialize a dictionary to hold the JSON structure for labels\n",
    "labels = {}\n",
    "\n",
    "# Load model(s)\n",
    "model = ocr_predictor(det_arch='db_resnet50', reco_arch='parseq', pretrained=True)\n",
    "\n",
    "for image_path in image_paths: \n",
    "    name_of_label = image_path.split(\"/\")[-1].split(\"_\")[0]\n",
    "    img = Image.open(image_path)\n",
    "    # Check if the image is in landscape (width > height)\n",
    "    if img.width > img.height:\n",
    "        # Rotate the image by 270 degrees clockwise\n",
    "        img = img.transpose(Image.Transpose.ROTATE_270)\n",
    "    doc = DocumentFile.from_images(image_path)\n",
    "    # Analyze\n",
    "    result = model(doc)\n",
    "    data = result.export()\n",
    "    data = data[\"pages\"][0]\n",
    "\n",
    "    # Loop through each block, line, and word to extract the words and create labels\n",
    "    for block in data['blocks']:\n",
    "        for line in block['lines']:\n",
    "            for word in line['words']:\n",
    "                # Get the word coordinates\n",
    "                coords = word['geometry']\n",
    "                # Calculate the coordinates on the image\n",
    "                left = img.width * coords[0][0]\n",
    "                top = img.height * coords[0][1]\n",
    "                right = img.width * coords[1][0]\n",
    "                bottom = img.height * coords[1][1]\n",
    "                \n",
    "                # Crop the image to the word\n",
    "                word_img = img.crop((left, top, right, bottom))\n",
    "                \n",
    "                # Generating a timestamp with the current hour, minute, second, milliseconds as a string\n",
    "                # Get the current time\n",
    "                current_time_precise = datetime.now()\n",
    "                \n",
    "                # Format the time to include hour, minute, second, milliseconds, and day\n",
    "                timestamp_precise = current_time_precise.strftime(\"%H%M%S%f\")\n",
    "                \n",
    "                # Define the filename with suffix\n",
    "                filename = f\"img_{name_of_label}_{timestamp_precise}.png\"\n",
    "                \n",
    "                # Save the cropped image with the new filename\n",
    "                word_img.save(f\"{annotations_dir}/{filename}\")\n",
    "                \n",
    "                # Add the entry to the labels dictionary\n",
    "                labels[filename] = name_of_label\n",
    "                \n",
    "# Save the updated labels dictionary back to the JSON file\n",
    "with open(labels_file, 'w') as f:\n",
    "    json.dump(labels, f)"
   ]
  },
  {
   "cell_type": "code",
   "execution_count": null,
   "id": "c9908d16-e6db-48c6-81bc-5c9d761b6d4e",
   "metadata": {},
   "outputs": [],
   "source": [
    "# manual labor: filter out \"dirty annotations\"."
   ]
  },
  {
   "cell_type": "code",
   "execution_count": null,
   "id": "c0fb7bca-ce10-40a8-8edf-7c355a2c0f35",
   "metadata": {},
   "outputs": [],
   "source": []
  },
  {
   "cell_type": "code",
   "execution_count": 4,
   "id": "62f4579d-1505-4772-9c67-65da6aa31e71",
   "metadata": {},
   "outputs": [],
   "source": [
    "# Load the labels from the labels.json file\n",
    "with open(labels_file, 'r') as f:\n",
    "    labels = json.load(f)\n",
    "\n",
    "# Get a list of all filenames in the 'annotations' directory\n",
    "existing_files = os.listdir(annotations_dir)\n",
    "\n",
    "# Remove keys from the dictionary for files that don't exist\n",
    "labels = {filename: word for filename, word in labels.items() if filename in existing_files}\n",
    "\n",
    "# Save the updated labels dictionary back to the JSON file\n",
    "with open(labels_file, 'w') as f:\n",
    "    json.dump(labels, f)\n",
    "# The labels dictionary is now updated with only existing files.\n"
   ]
  },
  {
   "cell_type": "code",
   "execution_count": null,
   "id": "c41a4cb0-0313-475f-a2eb-5d351f592725",
   "metadata": {},
   "outputs": [],
   "source": []
  },
  {
   "cell_type": "code",
   "execution_count": null,
   "id": "dc655035-1723-4ed6-a401-6aceed5acabd",
   "metadata": {},
   "outputs": [],
   "source": []
  },
  {
   "cell_type": "code",
   "execution_count": 5,
   "id": "2a68a39f-bc21-4b20-becb-8995c1ecd522",
   "metadata": {},
   "outputs": [],
   "source": [
    "# Create train and validation folders if they don't exist\n",
    "train_folder = os.path.join(data_dir, 'train_path')\n",
    "val_folder = os.path.join(data_dir, 'val_path')\n",
    "train_folder_images = os.path.join(train_folder, 'images')\n",
    "val_folder_images = os.path.join(val_folder, 'images')\n",
    "os.makedirs(train_folder, exist_ok=True)\n",
    "os.makedirs(val_folder, exist_ok=True)\n",
    "os.makedirs(train_folder_images, exist_ok=True)\n",
    "os.makedirs(val_folder_images, exist_ok=True)\n",
    "\n",
    "# List all the image files in the folder\n",
    "image_files = os.listdir(annotations_dir)\n",
    "image_files = [i for i in image_files if i!=\"labels.json\"]\n",
    "\n",
    "# Create dictionaries to keep track of counts for each category\n",
    "train_counts = {}\n",
    "val_counts = {}\n",
    "\n",
    "# Define the desired train-validation split ratio\n",
    "split_ratio = 0.8\n",
    "\n",
    "# Iterate through the image files\n",
    "for image_file in image_files:\n",
    "    # Extract the name portion of the filename (e.g., \"img_peter\")\n",
    "    name = image_file.split('_')[0]\n",
    "\n",
    "    # Determine if the image should go to the train or validation set\n",
    "    if name not in train_counts:\n",
    "        train_counts[name] = 0\n",
    "        val_counts[name] = 0\n",
    "\n",
    "    if train_counts[name] / (train_counts[name] + val_counts[name] + 1) < split_ratio:\n",
    "        train_counts[name] += 1\n",
    "        destination_folder = train_folder_images\n",
    "    else:\n",
    "        val_counts[name] += 1\n",
    "        destination_folder = val_folder_images\n",
    "\n",
    "    # Create a copy of the image file in the appropriate folder\n",
    "    source_path = os.path.join(annotations_dir, image_file)\n",
    "    destination_path = os.path.join(destination_folder, image_file)\n",
    "    shutil.copy2(source_path, destination_path)"
   ]
  },
  {
   "cell_type": "code",
   "execution_count": 6,
   "id": "bb691f7f-34af-492a-aa81-0ecd58db8893",
   "metadata": {},
   "outputs": [],
   "source": [
    "for i in [(train_folder, train_folder_images), (val_folder, val_folder_images)]:\n",
    "    # Load the labels from the labels.json file\n",
    "    with open(labels_file, 'r') as f:\n",
    "        labels = json.load(f)\n",
    "    \n",
    "    # Get a list of all filenames in the 'annotations' directory\n",
    "    existing_files = os.listdir(i[1])\n",
    "    \n",
    "    # Remove keys from the dictionary for files that don't exist\n",
    "    labels = {filename: word for filename, word in labels.items() if filename in existing_files}\n",
    "    \n",
    "    labels_file_new = os.path.join(i[0], 'labels.json')\n",
    "    \n",
    "    # Save the updated labels dictionary back to the JSON file\n",
    "    with open(labels_file_new, 'w') as f:\n",
    "        json.dump(labels, f)\n",
    "    # The labels dictionary is now updated with only existing files.\n"
   ]
  },
  {
   "cell_type": "code",
   "execution_count": null,
   "id": "5c4543e7-ea01-4030-bcf8-2e1baf1bdfae",
   "metadata": {},
   "outputs": [],
   "source": []
  }
 ],
 "metadata": {
  "kernelspec": {
   "display_name": "Python 3",
   "language": "python",
   "name": "python3"
  },
  "language_info": {
   "codemirror_mode": {
    "name": "ipython",
    "version": 3
   },
   "file_extension": ".py",
   "mimetype": "text/x-python",
   "name": "python",
   "nbconvert_exporter": "python",
   "pygments_lexer": "ipython3",
   "version": "3.10.0"
  }
 },
 "nbformat": 4,
 "nbformat_minor": 5
}
