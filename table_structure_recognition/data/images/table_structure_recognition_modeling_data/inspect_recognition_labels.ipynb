{
 "cells": [
  {
   "cell_type": "code",
   "execution_count": null,
   "id": "2db5e2b2-4ab5-40ed-98fe-3397f40adc92",
   "metadata": {},
   "outputs": [],
   "source": [
    "import json\n",
    "from PIL import Image, ImageDraw\n",
    "import matplotlib.pyplot as plt\n",
    "\n",
    "def plot_bounding_boxes(json_file, image_folder, category_name=None):\n",
    "    # Load the JSON data\n",
    "    with open(f\"{image_folder}/{json_file}\", 'r') as file:\n",
    "        data = json.load(file)\n",
    "\n",
    "    images = {image['id']: image for image in data['images']}\n",
    "    annotations = data['annotations']\n",
    "    categories = {category['id']: category['name'] for category in data['categories']}\n",
    "\n",
    "    # Group annotations by image_id, filter by category if specified\n",
    "    annotations_by_image = {}\n",
    "    for annotation in annotations:\n",
    "        if category_name is None or categories[annotation['category_id']] == category_name:\n",
    "            image_id = annotation['image_id']\n",
    "            if image_id not in annotations_by_image:\n",
    "                annotations_by_image[image_id] = []\n",
    "            annotations_by_image[image_id].append(annotation)\n",
    "\n",
    "    # Plot each image with its bounding boxes\n",
    "    for image_id, image_annotations in annotations_by_image.items():\n",
    "        image_info = images[image_id]\n",
    "        image_path = f\"{image_folder}/{image_info['file_name']}\"\n",
    "        with Image.open(image_path) as img:\n",
    "            draw = ImageDraw.Draw(img)\n",
    "            for annotation in image_annotations:\n",
    "                # bbox format is [x, y, width, height]\n",
    "                bbox = annotation['bbox']\n",
    "                draw.rectangle([bbox[0], bbox[1], bbox[0] + bbox[2], bbox[1] + bbox[3]], outline='red', width=3)\n",
    "            plt.figure(figsize=(10, 10))\n",
    "            plt.imshow(img)\n",
    "            plt.axis('off')\n",
    "            plt.show()\n",
    "\n",
    "for train_val in [\"train\", \"val\"]:\n",
    "    for table_row_column in [\"table\", \"table row\", \"table column\"]:\n",
    "        print(train_val, table_row_column)\n",
    "        plot_bounding_boxes(f'{train_val}.json', f'{train_val}', table_row_column)\n",
    "        print(\"#\"*100)"
   ]
  }
 ],
 "metadata": {
  "kernelspec": {
   "display_name": "Python 3",
   "language": "python",
   "name": "python3"
  },
  "language_info": {
   "codemirror_mode": {
    "name": "ipython",
    "version": 3
   },
   "file_extension": ".py",
   "mimetype": "text/x-python",
   "name": "python",
   "nbconvert_exporter": "python",
   "pygments_lexer": "ipython3",
   "version": "3.10.0"
  }
 },
 "nbformat": 4,
 "nbformat_minor": 5
}
